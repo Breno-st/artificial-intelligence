{
 "cells": [
  {
   "cell_type": "code",
   "execution_count": 55,
   "metadata": {},
   "outputs": [],
   "source": [
    "import matplotlib.pyplot as plt"
   ]
  },
  {
   "cell_type": "code",
   "execution_count": 24,
   "metadata": {},
   "outputs": [],
   "source": [
    "import tensorflow as tf\n",
    "from tensorflow import keras\n",
    "((x_train, y_train), (x_test, y_test)) = keras.datasets.fashion_mnist.load_data()\n",
    "y_train = keras.utils.to_categorical(y_train)\n",
    "y_test = keras.utils.to_categorical(y_test)"
   ]
  },
  {
   "cell_type": "code",
   "execution_count": null,
   "metadata": {},
   "outputs": [],
   "source": []
  },
  {
   "cell_type": "code",
   "execution_count": 182,
   "metadata": {},
   "outputs": [
    {
     "name": "stdout",
     "output_type": "stream",
     "text": [
      "(60000, 28, 28, 1)\n",
      "(10000, 28, 28, 1)\n"
     ]
    }
   ],
   "source": [
    "x_train.shape\n",
    "x_train=x_train.reshape(x_train.shape[0],x_train.shape[1],x_train.shape[2],1)\n",
    "print(x_train.shape)\n",
    "\n",
    "x_test.shape\n",
    "x_test=x_test.reshape(x_test.shape[0],x_test.shape[1],x_test.shape[2],1)\n",
    "print(x_test.shape)"
   ]
  },
  {
   "cell_type": "code",
   "execution_count": 247,
   "metadata": {},
   "outputs": [],
   "source": [
    "x_train=x_train.reshape(x_train.shape[0],x_train.shape[1],x_train.shape[2],1)\n",
    "x_test=x_test.reshape(x_test.shape[0],x_test.shape[1],x_test.shape[2],1)\n",
    "\n",
    "from tensorflow.keras import layers, models\n",
    "# Config Conv Network\n",
    "model = models.Sequential()\n",
    "model.add(layers.Conv2D(16, 4, activation='relu',padding='valid', input_shape=(28, 28,1)))\n",
    "#model.add(layers.Conv2D(16, 3, activation='relu', input_shape=(28, 28,1)))\n",
    "model.add(layers.MaxPooling2D((3, 3)))\n",
    "model.add(layers.Conv2D(32, 3, activation='relu',use_bias=True))\n",
    "model.add(layers.MaxPooling2D((2, 2)))\n",
    "model.add(layers.Conv2D(64, 3, activation='relu',use_bias=True))\n",
    "#model.add(layers.MaxPooling2D((2, 2)))\n",
    "\n",
    "\n",
    "\n",
    "\n"
   ]
  },
  {
   "cell_type": "code",
   "execution_count": 248,
   "metadata": {},
   "outputs": [
    {
     "name": "stdout",
     "output_type": "stream",
     "text": [
      "Model: \"sequential_61\"\n",
      "_________________________________________________________________\n",
      "Layer (type)                 Output Shape              Param #   \n",
      "=================================================================\n",
      "conv2d_181 (Conv2D)          (None, 25, 25, 16)        272       \n",
      "_________________________________________________________________\n",
      "max_pooling2d_167 (MaxPoolin (None, 8, 8, 16)          0         \n",
      "_________________________________________________________________\n",
      "conv2d_182 (Conv2D)          (None, 6, 6, 32)          4640      \n",
      "_________________________________________________________________\n",
      "max_pooling2d_168 (MaxPoolin (None, 3, 3, 32)          0         \n",
      "_________________________________________________________________\n",
      "conv2d_183 (Conv2D)          (None, 1, 1, 64)          18496     \n",
      "=================================================================\n",
      "Total params: 23,408\n",
      "Trainable params: 23,408\n",
      "Non-trainable params: 0\n",
      "_________________________________________________________________\n"
     ]
    }
   ],
   "source": [
    "model.summary()"
   ]
  },
  {
   "cell_type": "code",
   "execution_count": 235,
   "metadata": {},
   "outputs": [
    {
     "name": "stdout",
     "output_type": "stream",
     "text": [
      "Model: \"sequential_54\"\n",
      "_________________________________________________________________\n",
      "Layer (type)                 Output Shape              Param #   \n",
      "=================================================================\n",
      "conv2d_160 (Conv2D)          (None, 28, 28, 16)        272       \n",
      "_________________________________________________________________\n",
      "max_pooling2d_153 (MaxPoolin (None, 14, 14, 16)        0         \n",
      "_________________________________________________________________\n",
      "conv2d_161 (Conv2D)          (None, 12, 12, 32)        4640      \n",
      "_________________________________________________________________\n",
      "max_pooling2d_154 (MaxPoolin (None, 4, 4, 32)          0         \n",
      "_________________________________________________________________\n",
      "conv2d_162 (Conv2D)          (None, 2, 2, 64)          18496     \n",
      "=================================================================\n",
      "Total params: 23,408\n",
      "Trainable params: 23,408\n",
      "Non-trainable params: 0\n",
      "_________________________________________________________________\n"
     ]
    }
   ],
   "source": [
    "model.summary()"
   ]
  },
  {
   "cell_type": "code",
   "execution_count": 228,
   "metadata": {},
   "outputs": [],
   "source": [
    "# Config Dense Nerual network\n",
    "model.add(layers.Flatten())\n",
    "model.add(layers.Dense(28, activation='relu',kernel_initializer='random_normal',bias_initializer='random_normal'))\n",
    "model.add(layers.Dense(10,activation='softmax',kernel_initializer='random_normal',bias_initializer='random_normal'))\n",
    "\n"
   ]
  },
  {
   "cell_type": "code",
   "execution_count": 229,
   "metadata": {},
   "outputs": [
    {
     "name": "stdout",
     "output_type": "stream",
     "text": [
      "Model: \"sequential_52\"\n",
      "_________________________________________________________________\n",
      "Layer (type)                 Output Shape              Param #   \n",
      "=================================================================\n",
      "conv2d_155 (Conv2D)          (None, 28, 28, 16)        272       \n",
      "_________________________________________________________________\n",
      "max_pooling2d_149 (MaxPoolin (None, 14, 14, 16)        0         \n",
      "_________________________________________________________________\n",
      "conv2d_156 (Conv2D)          (None, 12, 12, 32)        4640      \n",
      "_________________________________________________________________\n",
      "max_pooling2d_150 (MaxPoolin (None, 6, 6, 32)          0         \n",
      "_________________________________________________________________\n",
      "flatten_24 (Flatten)         (None, 1152)              0         \n",
      "_________________________________________________________________\n",
      "dense_48 (Dense)             (None, 28)                32284     \n",
      "_________________________________________________________________\n",
      "dense_49 (Dense)             (None, 10)                290       \n",
      "=================================================================\n",
      "Total params: 37,486\n",
      "Trainable params: 37,486\n",
      "Non-trainable params: 0\n",
      "_________________________________________________________________\n"
     ]
    }
   ],
   "source": [
    "model.summary()"
   ]
  },
  {
   "cell_type": "code",
   "execution_count": 230,
   "metadata": {},
   "outputs": [],
   "source": [
    "# Compile the model\n",
    "optimizer=keras.optimizers.Adam(learning_rate=1e-3)\n",
    "model.compile(optimizer=optimizer,\n",
    "              loss='categorical_crossentropy',\n",
    "              metrics=['accuracy'])\n",
    "\n"
   ]
  },
  {
   "cell_type": "code",
   "execution_count": 231,
   "metadata": {},
   "outputs": [
    {
     "name": "stdout",
     "output_type": "stream",
     "text": [
      "Epoch 1/10\n",
      "1875/1875 [==============================] - 36s 11ms/step - loss: 1.0700 - accuracy: 0.7333 - val_loss: 0.3729 - val_accuracy: 0.8663\n",
      "Epoch 2/10\n",
      "1875/1875 [==============================] - 25s 13ms/step - loss: 0.3288 - accuracy: 0.8835 - val_loss: 0.3583 - val_accuracy: 0.8725\n",
      "Epoch 3/10\n",
      "1875/1875 [==============================] - 20s 11ms/step - loss: 0.2865 - accuracy: 0.8962 - val_loss: 0.3458 - val_accuracy: 0.8809\n",
      "Epoch 4/10\n",
      "1875/1875 [==============================] - 19s 10ms/step - loss: 0.2616 - accuracy: 0.9028 - val_loss: 0.3287 - val_accuracy: 0.8793\n",
      "Epoch 5/10\n",
      "1875/1875 [==============================] - 18s 10ms/step - loss: 0.2473 - accuracy: 0.9092 - val_loss: 0.2926 - val_accuracy: 0.8965\n",
      "Epoch 6/10\n",
      "1875/1875 [==============================] - 20s 11ms/step - loss: 0.2330 - accuracy: 0.9125 - val_loss: 0.2895 - val_accuracy: 0.9009\n",
      "Epoch 7/10\n",
      "1875/1875 [==============================] - 21s 11ms/step - loss: 0.2157 - accuracy: 0.9210 - val_loss: 0.3074 - val_accuracy: 0.8971\n",
      "Epoch 8/10\n",
      "1875/1875 [==============================] - 20s 11ms/step - loss: 0.2054 - accuracy: 0.9233 - val_loss: 0.2964 - val_accuracy: 0.9037\n",
      "Epoch 9/10\n",
      "1875/1875 [==============================] - 20s 11ms/step - loss: 0.1967 - accuracy: 0.9275 - val_loss: 0.3038 - val_accuracy: 0.8979\n",
      "Epoch 10/10\n",
      "1875/1875 [==============================] - 20s 11ms/step - loss: 0.1894 - accuracy: 0.9284 - val_loss: 0.3205 - val_accuracy: 0.8956\n"
     ]
    }
   ],
   "source": [
    "# Fit the model\n",
    "history = model.fit(x_train, y_train, epochs=10, \n",
    "                    validation_data=(x_test, y_test))"
   ]
  },
  {
   "cell_type": "code",
   "execution_count": 211,
   "metadata": {},
   "outputs": [
    {
     "data": {
      "text/plain": [
       "<matplotlib.legend.Legend at 0x14c38e175b0>"
      ]
     },
     "execution_count": 211,
     "metadata": {},
     "output_type": "execute_result"
    },
    {
     "data": {
      "image/png": "[encoded data removed]",
      "text/plain": [
       "<Figure size 432x288 with 1 Axes>"
      ]
     },
     "metadata": {
      "needs_background": "light"
     },
     "output_type": "display_data"
    }
   ],
   "source": [
    "plt.plot(history.history['accuracy'], label='accuracy')\n",
    "plt.plot(history.history['val_accuracy'], label = 'val_accuracy')\n",
    "plt.xlabel('Epoch')\n",
    "plt.ylabel('Accuracy')\n",
    "plt.ylim([0.5, 1])\n",
    "plt.legend(loc='lower right')"
   ]
  },
  {
   "cell_type": "code",
   "execution_count": 212,
   "metadata": {},
   "outputs": [
    {
     "name": "stdout",
     "output_type": "stream",
     "text": [
      "313/313 - 1s - loss: 0.6648 - accuracy: 0.7495\n"
     ]
    }
   ],
   "source": [
    "test_loss, test_acc = model.evaluate(x_test,  y_test, verbose=2)\n"
   ]
  },
  {
   "cell_type": "code",
   "execution_count": 107,
   "metadata": {},
   "outputs": [
    {
     "name": "stdout",
     "output_type": "stream",
     "text": [
      "min 84.95 / max 94.95\n"
     ]
    }
   ],
   "source": [
    "print('min',(0.8995*100)-5,'/ max',(0.8995*100)+5)"
   ]
  },
  {
   "cell_type": "code",
   "execution_count": null,
   "metadata": {},
   "outputs": [],
   "source": []
  },
  {
   "cell_type": "code",
   "execution_count": 84,
   "metadata": {},
   "outputs": [],
   "source": [
    "model.save('Conv.model',save_format='h5')"
   ]
  },
  {
   "cell_type": "code",
   "execution_count": null,
   "metadata": {},
   "outputs": [],
   "source": []
  }
 ],
 "metadata": {
  "kernelspec": {
   "display_name": "Python 3",
   "language": "python",
   "name": "python3"
  },
  "language_info": {
   "codemirror_mode": {
    "name": "ipython",
    "version": 3
   },
   "file_extension": ".py",
   "mimetype": "text/x-python",
   "name": "python",
   "nbconvert_exporter": "python",
   "pygments_lexer": "ipython3",
   "version": "3.8.3"
  }
 },
 "nbformat": 4,
 "nbformat_minor": 4
}
